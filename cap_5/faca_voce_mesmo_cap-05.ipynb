{
 "cells": [
  {
   "cell_type": "markdown",
   "metadata": {},
   "source": [
    "## FAÇA VOCÊ MESMO\n",
    "### 5.3 Cores de alienigenas #1\n",
    " Suponha que um alienigena acabou de ser atingido em um jogo. Crie uma variável chamada **alien_ color** e atribua-lhe um valor igual  a **green**, **yellow**' ou **red**  \n",
    " - Escreva uma instrução if para testar se a cor do alienigena  verde. Se for, mostre uma mensagem informando que  jogador acabou de ganhar cinco  pontos,  \n",
    " - Escreva uma versão desse programa em que o teste if passe e outro em que  ele falhe. (A versão que falha não terá nenhuma saída.)  "
   ]
  },
  {
   "cell_type": "code",
   "execution_count": 42,
   "metadata": {},
   "outputs": [
    {
     "name": "stdout",
     "output_type": "stream",
     "text": [
      "red\n"
     ]
    }
   ],
   "source": [
    "import random\n",
    "alien_colors = [\"green\", \"yellow\", \"red\"]\n",
    "\n",
    "alien_color = random.choice(alien_colors)\n",
    "print(alien_color) \n",
    "\n",
    "if alien_color == \"green\":\n",
    "    print(f\"Você Ganhou 5 pontos!\")"
   ]
  },
  {
   "cell_type": "markdown",
   "metadata": {},
   "source": [
    "### 5.4 Cores de alienigenas #2: \n",
    "\n",
    "Escolha uma cor para um alienigena, como foi  feito no Exercicio 5.3, e escreva uma cadeia if-else  \n",
    "- Se a cor do alienigena for verde, mostre uma frase informando que o jogador  acabou de ganhar cinco pontos por atingir o alienigena  \n",
    "- Se a cor do alienígena não for verde, mostre uma frase informando que o  jogador acabou de ganhar dez pontos,.  \n",
    "- Escreva uma versão desse programa que execute o bloco if e outro que execute o bloco else  \n"
   ]
  },
  {
   "cell_type": "code",
   "execution_count": 66,
   "metadata": {},
   "outputs": [
    {
     "name": "stdout",
     "output_type": "stream",
     "text": [
      "Você Ganhou 5 pontos!\n",
      "Você Ganhou 5 pontos!\n"
     ]
    }
   ],
   "source": [
    "import random\n",
    "alien_colors = [\"green\", \"yellow\", \"red\"]\n",
    "alien_color = random.choice(alien_colors)\n",
    "\n",
    "#Se a cor do alienigena for verde, mostre uma frase informando que o jogador  acabou de ganhar cinco pontos por atingir o alienigena  \n",
    "if alien_color == \"green\":\n",
    "    print(f\"Você Ganhou 5 pontos!\")\n",
    "#Se a cor do alienígena não for verde, mostre uma frase informando que o  jogador acabou de ganhar dez pontos,.  \n",
    "if alien_color != \"green\":\n",
    "    print(f\"Você Ganhou 10 pontos!\")\n",
    "#Escreva uma versão desse programa que execute o bloco if e outro que execute  ◦ bloco else\n",
    "if alien_color == \"green\":\n",
    "    print(f\"Você Ganhou 5 pontos!\")\n",
    "else:\n",
    "    print(f\"Você Ganhou 10 pontos!\")"
   ]
  },
  {
   "cell_type": "markdown",
   "metadata": {},
   "source": [
    "### 5.5 - Cores de alienigenas #3: \n",
    "Transforme sua cadeia if-else do Exercicio 5.4  em uma cadeia if-elif-else  \n",
    "- Se o alienigena for verde, mostre uma mensagem informando que o jogador  ganhou cinco pontos    \n",
    "- Se alienfgena for amarelo,  mostre uma mensagem intormando que o jogado ganhou dez pontos.  \n",
    "- Se o alienigena for vermelho, mostre uma mensagem informando que o jogador  ganhou quinze pontos,  \n",
    "- Escreva três versões desse programa, garantindo que cada mensogem seja  exibida para a cor apropriada do alienígena  \n",
    "\n"
   ]
  },
  {
   "cell_type": "code",
   "execution_count": 74,
   "metadata": {},
   "outputs": [
    {
     "name": "stdout",
     "output_type": "stream",
     "text": [
      "yellow\n",
      "Você Ganhou 10 pontos!\n"
     ]
    }
   ],
   "source": [
    "import random\n",
    "alien_colors = [\"green\", \"yellow\", \"red\"]\n",
    "alien_color = random.choice(alien_colors)\n",
    "\n",
    "print(alien_color\n",
    "      )\n",
    "#Se o alienigena for verde, mostre uma mensagem informando que o jogador  ganhou cinco pontos \n",
    "if alien_color == \"green\":\n",
    "    print(f\"Você Ganhou 5 pontos!\")\n",
    "#Se alienfgena for amarelo,  mostre uma mensagem intormando que o jogado ganhou dez pontos.   \n",
    "elif alien_color == \"yellow\":\n",
    "    print(f\"Você Ganhou 10 pontos!\")\n",
    "#Se o alienigena for vermelho, mostre uma mensagem informando que o jogador  ganhou quinze pontos.\n",
    "else:\n",
    "    print(f\"Você Ganhou 15 pontos!\")"
   ]
  },
  {
   "cell_type": "markdown",
   "metadata": {},
   "source": [
    "### 5.6 - Estágios da vida: \n",
    "Escreva uma cadeia **if-elif-else** que determine o estágio  da vida de uma pessoa. Defina um valor para a variável **age** e então:  \n",
    "- Se a pessoa tiver menos de 2 anos de idade, mostre uma mensagem dizendo  que ela é um bebê.  \n",
    "- Se a pessoa tiver pelo menos 2 anos, mas menos de 4, mostre uma mensagem  dizendo que ela é uma criança.  \n",
    "- Se a pessoa tiver pelo menos 4 anos, mas menos de 1 3, mostre uma mensagem  dizendo que ela é um(a) garotola.  \n",
    "- Se a pessoa tiver pelo menos 1 3 anos, mas menos de 20, mostre uma mensagem  dizendo que ela é um(a) adolescente.  \n",
    "- Se a pessoa tiver pelo menos 20 anos, mas menos de 65, mostre uma mensagem  dizendo que ela é adulto.  \n",
    "- Se a pessoa tiver 65 anos ou mais, mostre uma mensagem dizendo que essc  pessoa é idoso  \n",
    "\n"
   ]
  },
  {
   "cell_type": "code",
   "execution_count": 206,
   "metadata": {},
   "outputs": [
    {
     "name": "stdout",
     "output_type": "stream",
     "text": [
      "você tem 45 anos de idade, portando é um adulto\n"
     ]
    }
   ],
   "source": [
    "import random\n",
    "age = random.choice(range(101))\n",
    "\n",
    "if age >= 65:\n",
    "    print(f\"você tem {age} anos de idade, portando é um Idoso\")\n",
    "elif(age >= 20 and age < 65):\n",
    "    print(f\"você tem {age} anos de idade, portando é um adulto\")\n",
    "elif(age >= 13 and age < 20):\n",
    "    print(f\"você tem {age} anos de idade, portando é um adolescente\")\n",
    "elif(age  >= 4 and age < 13):\n",
    "    print(f\"você tem {age} anos de idade, portando é um garoto(a)\")\n",
    "elif(age >= 2 and age < 4 ):\n",
    "    print(f\"você tem {age} anos de idade, portando é um(a) criança\")\n",
    "else:\n",
    "    print(f\"você tem {age} anos de idade, portando é um bebê\")"
   ]
  },
  {
   "cell_type": "markdown",
   "metadata": {},
   "source": [
    "### 5.7 - fruta favorita: \n",
    "Faça uma lista de suas frutas favoritas e, então, escreva uma  série de instruções if independentes que verifiquem se determinadas frutas estão em  sUa lista.  \n",
    "- Crie uma lista com suas três frutas favoritas 0 chame-a de favorite fruits  \n",
    "- Escreva cinco instrucões if. Cada instrução deve verificar se uma determinada  fruta está em sua lista Se estiver, o bloco **if** deverá exibir uma frase, por exemplo, Você realmente gosta de bananas! "
   ]
  },
  {
   "cell_type": "code",
   "execution_count": 227,
   "metadata": {},
   "outputs": [
    {
     "name": "stdout",
     "output_type": "stream",
     "text": [
      "uva\n",
      "você realmente gosta de uva\n"
     ]
    }
   ],
   "source": [
    "import random\n",
    "\n",
    "fruits = ['maçã', 'banana', 'laranja', 'uva', 'pera', 'manga', 'abacaxi', 'morango', 'melancia', 'kiwi']\n",
    "\n",
    "fruit = random.choice(fruits)\n",
    "\n",
    "favorite_fruits = ['maçã', 'uva', 'pera']\n",
    "\n",
    "print(fruit)\n",
    "\n",
    "if fruit in favorite_fruits:\n",
    "    print(f\"você realmente gosta de {fruit}\")"
   ]
  },
  {
   "cell_type": "markdown",
   "metadata": {},
   "source": [
    "### 5.8 - Olá admin: \n",
    "Crie uma lista com cinco OU mais nomes de usuários, incluindo nome admin  Suponha que você esteja escrevendo um código que exibirá uma  saudação a cada usuário depois que eles fizerem login em um site. Percorra a lista  com um laço e mostre uma saudação para cada usuário:  \n",
    "- Se o nome do usuário for \"admin', mostre uma saudação especial, por exemplo,  Olá admin, gostaria de ver um relatório de status?  \n",
    "- Caso contrário, mostre uma saudação genérica, como Olá Eric, obrigado por  fazer login novamente  \n",
    "\n"
   ]
  },
  {
   "cell_type": "code",
   "execution_count": 231,
   "metadata": {},
   "outputs": [
    {
     "name": "stdout",
     "output_type": "stream",
     "text": [
      "olá jose, obrigado por fazer login novamente.\n",
      "olá maria, obrigado por fazer login novamente.\n",
      "olá ana, obrigado por fazer login novamente.\n",
      "ola admin, goataria de ver um relatorio de status?\n",
      "olá carlos, obrigado por fazer login novamente.\n",
      "olá fernanda, obrigado por fazer login novamente.\n",
      "olá lucas, obrigado por fazer login novamente.\n"
     ]
    }
   ],
   "source": [
    "usuarios = ['jose', 'maria', 'ana', 'admin', 'carlos', 'fernanda', 'lucas']\n",
    "\n",
    "for usuario in usuarios:\n",
    "    if usuario == \"admin\":\n",
    "        print(f\"ola {usuario}, goataria de ver um relatorio de status?\")\n",
    "    else:\n",
    "        print(f\"olá {usuario}, obrigado por fazer login novamente.\")"
   ]
  },
  {
   "cell_type": "markdown",
   "metadata": {},
   "source": [
    "### 5.9 Sem usuários: \n",
    "Acrescente um teste if em hello_admin.py para garantir que  a lista de usuários não esteja vazia  \n",
    "- Se a lista estiver vazia, mostre a mensagem Precisamos encontrar alguns usuários! \n",
    "- Remova todos os nomes de usuário de sua lista e certifique-se de que a mensagem correta seja exibida.  \n",
    "\n"
   ]
  },
  {
   "cell_type": "code",
   "execution_count": 238,
   "metadata": {},
   "outputs": [
    {
     "name": "stdout",
     "output_type": "stream",
     "text": [
      "precisamos encontrar alguns usuários\n"
     ]
    }
   ],
   "source": [
    "#usuarios = ['jose', 'maria', 'ana', 'admin', 'carlos', 'fernanda', 'lucas']\n",
    "usuarios = []\n",
    "if not usuarios:\n",
    "    print(\"precisamos encontrar alguns usuários\")\n",
    "else:\n",
    "    for usuario in usuarios:\n",
    "        if usuario == \"admin\":\n",
    "            print(f\"ola {usuario}, goataria de ver um relatorio de status?\")\n",
    "        else:\n",
    "            print(f\"olá {usuario}, obrigado por fazer login novamente.\")"
   ]
  },
  {
   "cell_type": "markdown",
   "metadata": {},
   "source": [
    "### 5.10 - Verificando nomes de usuários: \n",
    "Faça o seguinte para criar um programa  que simule o modo como os sites garantem que todos tenham um nome de usuário  único. \n",
    "\n",
    "- Crie uma lista chamada current_users com cinco ou mais nomes de usuarios \n",
    "- Crie outra lista chamada new_users com cinco nomes de usuários. Garanta que  um ou dois dos novos usuários também estejam na lista current_users  \n",
    "- Percorra a lista new_users com um laço para ver se cada novo nome de usuário  já foi usado. Em caso afirmativo, mostre uma mensagem informando que a  pessoa deverá fornecer um novo nome.Se um nome de usuário não foi usado  apresente uma mensagem dizendo que o nome do usuário está disponivel \n",
    "- Certifique-se de que sua comparação não levará em conta as diferenças entre  letras maiúsculas e minúsculas. Se ' John' foi usado, 'JOHN' não deverá ser aceito. \n",
    "\n",
    "\n"
   ]
  },
  {
   "cell_type": "code",
   "execution_count": 249,
   "metadata": {},
   "outputs": [
    {
     "name": "stdout",
     "output_type": "stream",
     "text": [
      "Informe um novo nome de usuário. O usuário bob já esta em uso.\n"
     ]
    }
   ],
   "source": [
    "import random\n",
    "current_users = ['alice', 'bob', 'charlie', 'dave', 'eve', 'frank', 'grace']\n",
    "new_users = ['henry', 'isabel', 'charlie', 'bob', 'julia']\n",
    "\n",
    "user = random.choice(new_users)\n",
    "#user = \"Henry\"\n",
    "\n",
    "if user.lower() in current_users:\n",
    "    print(f\"Informe um novo nome de usuário. O usuário {user} já esta em uso.\")\n",
    "else:\n",
    "    print(f\"O usuario {user} está disponivel\")\n",
    "\n"
   ]
  },
  {
   "cell_type": "markdown",
   "metadata": {},
   "source": [
    "### 5.11 - Números ordinais: \n",
    "Números ordinais indicam sua posição em uma lista  por exemplo, 7st ou 2nd, em inglês. A maioria dos números ordinais nessa lingua  termina com th, exceto 1, 2 e 3.  \n",
    "- Armazene os números de 1 a 9 em uma lista.  \n",
    "- Percorra a lista com um laço. \n",
    "- Use uma cadeia if-elif-else no laço para exibir a terminação apropriada para  cada número ordinal. Sua saída deverá conter \"1st 2nd 3rd 4th 5th 6th 7th 8th  9th\",  cada resultado deve estar em uma linha separada"
   ]
  },
  {
   "cell_type": "code",
   "execution_count": 253,
   "metadata": {},
   "outputs": [
    {
     "name": "stdout",
     "output_type": "stream",
     "text": [
      "1st\n",
      "2nd\n",
      "3rd\n",
      "4th\n",
      "5th\n",
      "6th\n",
      "7th\n",
      "8th\n",
      "9th\n"
     ]
    }
   ],
   "source": [
    "number = list(range(1, 10))\n",
    "for n in number:\n",
    "    if n == 1:\n",
    "        print(f\"{str(n)}st\")\n",
    "    elif n == 2:\n",
    "        print(f\"{str(n)}nd\")\n",
    "    elif n == 3:\n",
    "        print(f\"{str(n)}rd\")\n",
    "    else:\n",
    "        print(f\"{n}th\")\n",
    "\n"
   ]
  }
 ],
 "metadata": {
  "kernelspec": {
   "display_name": "base",
   "language": "python",
   "name": "python3"
  },
  "language_info": {
   "codemirror_mode": {
    "name": "ipython",
    "version": 3
   },
   "file_extension": ".py",
   "mimetype": "text/x-python",
   "name": "python",
   "nbconvert_exporter": "python",
   "pygments_lexer": "ipython3",
   "version": "3.12.4"
  }
 },
 "nbformat": 4,
 "nbformat_minor": 2
}
